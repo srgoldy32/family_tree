{
 "cells": [
  {
   "cell_type": "code",
   "execution_count": 1,
   "metadata": {},
   "outputs": [],
   "source": [
    "import pandas as pd\n",
    "import plotly.graph_objs as go\n",
    "import dash\n",
    "from dash import dcc, html\n",
    "import dash_cytoscape as cyto"
   ]
  },
  {
   "cell_type": "code",
   "execution_count": 86,
   "metadata": {},
   "outputs": [],
   "source": [
    "sheet_id = \"1DERvsSuI838s8ZRNG69sP4Pz2tgnHvoTvGljUk0ldQc\"  # your Google Sheet ID\n",
    "People = \"0\"\n",
    "Marriages = \"1981493742\"  # the gid of the 'Marriages' sheet\n",
    "\n",
    "url = \"https://docs.google.com/spreadsheets/d/{}/export?format=csv&gid={}\"\n",
    "\n",
    "marriages_df = pd.read_csv(url.format(sheet_id,Marriages))\n",
    "people_df = pd.read_csv(url.format(sheet_id,People))\n",
    "\n",
    "name_to_id = {f\"{row['First']} {row['Last']}\": row['P_id'] for _, row in people_df.iterrows()}\n"
   ]
  },
  {
   "cell_type": "code",
   "execution_count": 87,
   "metadata": {},
   "outputs": [],
   "source": [
    "def assign_xpos(people_df, marriages_df, spacing_x=1, spacing_y=1):\n",
    "    \"\"\"\n",
    "    Assign xpos based on generation and relationship structure.\n",
    "    Returns an updated people_df with xpos.\n",
    "    \"\"\"\n",
    "    from collections import defaultdict\n",
    "\n",
    "    # Group people by generation\n",
    "    gen_to_people = defaultdict(list)\n",
    "    for _, row in people_df.iterrows():\n",
    "        gen_to_people[row['Generation']].append(row['P_id'])\n",
    "\n",
    "    # Keep track of assigned x positions\n",
    "    xpos_map = {}\n",
    "    current_x = 0\n",
    "\n",
    "    # Start from the oldest generation and go down\n",
    "    sorted_gens = sorted(gen_to_people.keys())\n",
    "\n",
    "    for gen in sorted_gens:\n",
    "        people_in_gen = gen_to_people[gen]\n",
    "\n",
    "        # Handle couples together\n",
    "        already_placed = set()\n",
    "        for _, marriage in marriages_df.iterrows():\n",
    "            a = marriage['PersonA']\n",
    "            b = marriage['PersonB']\n",
    "\n",
    "            # Make sure they are both in this generation\n",
    "            if a in people_in_gen and b in people_in_gen and a not in already_placed and b not in already_placed:\n",
    "                xpos_map[a] = current_x\n",
    "                xpos_map[b] = current_x + spacing_x // 2\n",
    "                current_x += spacing_x * 2  # extra spacing between couples\n",
    "                already_placed.update([a, b])\n",
    "\n",
    "        # Place individuals not in marriages or already placed\n",
    "        for pid in people_in_gen:\n",
    "            if pid not in xpos_map:\n",
    "                xpos_map[pid] = current_x\n",
    "                current_x += spacing_x\n",
    "\n",
    "    # Assign x positions to children centered under their parents\n",
    "    for _, row in marriages_df.iterrows():\n",
    "        a = row['PersonA']\n",
    "        b = row['PersonB']\n",
    "        children = [c.strip() for c in str(row['Children']).split(\",\") if c.strip()]\n",
    "\n",
    "        # Use midpoint of the parents\n",
    "        if a in xpos_map and b in xpos_map:\n",
    "            parent_mid_x = (xpos_map[a] + xpos_map[b]) / 2\n",
    "\n",
    "            # Spread children around the midpoint\n",
    "            num_children = len(children)\n",
    "            child_spacing = spacing_x\n",
    "            start_x = parent_mid_x - (child_spacing * (num_children - 1)) / 2\n",
    "\n",
    "            for i, child in enumerate(children):\n",
    "                if child not in xpos_map:\n",
    "                    xpos_map[child] = start_x + i * child_spacing\n",
    "\n",
    "    # Update the DataFrame with xpos\n",
    "    people_df['xpos'] = people_df['P_id'].map(xpos_map)\n",
    "\n",
    "    return people_df\n",
    "people_df = assign_xpos(people_df, marriages_df)\n"
   ]
  },
  {
   "cell_type": "code",
   "execution_count": 41,
   "metadata": {},
   "outputs": [
    {
     "ename": "ImportError",
     "evalue": "requires pygraphviz http://pygraphviz.github.io/",
     "output_type": "error",
     "traceback": [
      "\u001b[0;31m---------------------------------------------------------------------------\u001b[0m",
      "\u001b[0;31mModuleNotFoundError\u001b[0m                       Traceback (most recent call last)",
      "File \u001b[0;32m/usr/local/lib/python3.10/site-packages/networkx/drawing/nx_agraph.py:301\u001b[0m, in \u001b[0;36mpygraphviz_layout\u001b[0;34m(G, prog, root, args)\u001b[0m\n\u001b[1;32m    300\u001b[0m \u001b[38;5;28;01mtry\u001b[39;00m:\n\u001b[0;32m--> 301\u001b[0m     \u001b[38;5;28;01mimport\u001b[39;00m \u001b[38;5;21;01mpygraphviz\u001b[39;00m\n\u001b[1;32m    302\u001b[0m \u001b[38;5;28;01mexcept\u001b[39;00m \u001b[38;5;167;01mImportError\u001b[39;00m \u001b[38;5;28;01mas\u001b[39;00m err:\n",
      "\u001b[0;31mModuleNotFoundError\u001b[0m: No module named 'pygraphviz'",
      "\nThe above exception was the direct cause of the following exception:\n",
      "\u001b[0;31mImportError\u001b[0m                               Traceback (most recent call last)",
      "Cell \u001b[0;32mIn[41], line 13\u001b[0m\n\u001b[1;32m     10\u001b[0m G\u001b[38;5;241m.\u001b[39madd_edge(\u001b[38;5;124m\"\u001b[39m\u001b[38;5;124mM1\u001b[39m\u001b[38;5;124m\"\u001b[39m, \u001b[38;5;124m\"\u001b[39m\u001b[38;5;124mC1\u001b[39m\u001b[38;5;124m\"\u001b[39m)  \u001b[38;5;66;03m# Marriage has child\u001b[39;00m\n\u001b[1;32m     12\u001b[0m \u001b[38;5;66;03m# Use Graphviz to compute layout\u001b[39;00m\n\u001b[0;32m---> 13\u001b[0m pos \u001b[38;5;241m=\u001b[39m \u001b[43mnx\u001b[49m\u001b[38;5;241;43m.\u001b[39;49m\u001b[43mnx_agraph\u001b[49m\u001b[38;5;241;43m.\u001b[39;49m\u001b[43mgraphviz_layout\u001b[49m\u001b[43m(\u001b[49m\u001b[43mG\u001b[49m\u001b[43m,\u001b[49m\u001b[43m \u001b[49m\u001b[43mprog\u001b[49m\u001b[38;5;241;43m=\u001b[39;49m\u001b[38;5;124;43m'\u001b[39;49m\u001b[38;5;124;43mdot\u001b[39;49m\u001b[38;5;124;43m'\u001b[39;49m\u001b[43m)\u001b[49m  \u001b[38;5;66;03m# or use 'neato'/'twopi'\u001b[39;00m\n\u001b[1;32m     15\u001b[0m \u001b[38;5;66;03m# Use pos to set node positions in Cytoscape\u001b[39;00m\n",
      "File \u001b[0;32m/usr/local/lib/python3.10/site-packages/networkx/drawing/nx_agraph.py:257\u001b[0m, in \u001b[0;36mgraphviz_layout\u001b[0;34m(G, prog, root, args)\u001b[0m\n\u001b[1;32m    226\u001b[0m \u001b[38;5;28;01mdef\u001b[39;00m \u001b[38;5;21mgraphviz_layout\u001b[39m(G, prog\u001b[38;5;241m=\u001b[39m\u001b[38;5;124m\"\u001b[39m\u001b[38;5;124mneato\u001b[39m\u001b[38;5;124m\"\u001b[39m, root\u001b[38;5;241m=\u001b[39m\u001b[38;5;28;01mNone\u001b[39;00m, args\u001b[38;5;241m=\u001b[39m\u001b[38;5;124m\"\u001b[39m\u001b[38;5;124m\"\u001b[39m):\n\u001b[1;32m    227\u001b[0m \u001b[38;5;250m    \u001b[39m\u001b[38;5;124;03m\"\"\"Create node positions for G using Graphviz.\u001b[39;00m\n\u001b[1;32m    228\u001b[0m \n\u001b[1;32m    229\u001b[0m \u001b[38;5;124;03m    Parameters\u001b[39;00m\n\u001b[0;32m   (...)\u001b[0m\n\u001b[1;32m    255\u001b[0m \u001b[38;5;124;03m    see https://gitlab.com/graphviz/graphviz/-/issues/1767 for more info.\u001b[39;00m\n\u001b[1;32m    256\u001b[0m \u001b[38;5;124;03m    \"\"\"\u001b[39;00m\n\u001b[0;32m--> 257\u001b[0m     \u001b[38;5;28;01mreturn\u001b[39;00m \u001b[43mpygraphviz_layout\u001b[49m\u001b[43m(\u001b[49m\u001b[43mG\u001b[49m\u001b[43m,\u001b[49m\u001b[43m \u001b[49m\u001b[43mprog\u001b[49m\u001b[38;5;241;43m=\u001b[39;49m\u001b[43mprog\u001b[49m\u001b[43m,\u001b[49m\u001b[43m \u001b[49m\u001b[43mroot\u001b[49m\u001b[38;5;241;43m=\u001b[39;49m\u001b[43mroot\u001b[49m\u001b[43m,\u001b[49m\u001b[43m \u001b[49m\u001b[43margs\u001b[49m\u001b[38;5;241;43m=\u001b[39;49m\u001b[43margs\u001b[49m\u001b[43m)\u001b[49m\n",
      "File \u001b[0;32m/usr/local/lib/python3.10/site-packages/networkx/drawing/nx_agraph.py:303\u001b[0m, in \u001b[0;36mpygraphviz_layout\u001b[0;34m(G, prog, root, args)\u001b[0m\n\u001b[1;32m    301\u001b[0m     \u001b[38;5;28;01mimport\u001b[39;00m \u001b[38;5;21;01mpygraphviz\u001b[39;00m\n\u001b[1;32m    302\u001b[0m \u001b[38;5;28;01mexcept\u001b[39;00m \u001b[38;5;167;01mImportError\u001b[39;00m \u001b[38;5;28;01mas\u001b[39;00m err:\n\u001b[0;32m--> 303\u001b[0m     \u001b[38;5;28;01mraise\u001b[39;00m \u001b[38;5;167;01mImportError\u001b[39;00m(\u001b[38;5;124m\"\u001b[39m\u001b[38;5;124mrequires pygraphviz http://pygraphviz.github.io/\u001b[39m\u001b[38;5;124m\"\u001b[39m) \u001b[38;5;28;01mfrom\u001b[39;00m \u001b[38;5;21;01merr\u001b[39;00m\n\u001b[1;32m    304\u001b[0m \u001b[38;5;28;01mif\u001b[39;00m root \u001b[38;5;129;01mis\u001b[39;00m \u001b[38;5;129;01mnot\u001b[39;00m \u001b[38;5;28;01mNone\u001b[39;00m:\n\u001b[1;32m    305\u001b[0m     args \u001b[38;5;241m+\u001b[39m\u001b[38;5;241m=\u001b[39m \u001b[38;5;124mf\u001b[39m\u001b[38;5;124m\"\u001b[39m\u001b[38;5;124m-Groot=\u001b[39m\u001b[38;5;132;01m{\u001b[39;00mroot\u001b[38;5;132;01m}\u001b[39;00m\u001b[38;5;124m\"\u001b[39m\n",
      "\u001b[0;31mImportError\u001b[0m: requires pygraphviz http://pygraphviz.github.io/"
     ]
    }
   ],
   "source": [
    "import networkx as nx\n",
    "\n",
    "G = nx.DiGraph()\n",
    "\n",
    "# Add nodes and edges (marriages and children)\n",
    "G.add_node(\"P1\")\n",
    "G.add_node(\"P2\")\n",
    "G.add_edge(\"P1\", \"M1\")  # P1 part of marriage\n",
    "G.add_edge(\"P2\", \"M1\")\n",
    "G.add_edge(\"M1\", \"C1\")  # Marriage has child\n",
    "\n",
    "# Use Graphviz to compute layout\n",
    "pos = nx.nx_agraph.graphviz_layout(G, prog='dot')  # or use 'neato'/'twopi'\n",
    "\n",
    "# Use pos to set node positions in Cytoscape\n"
   ]
  },
  {
   "cell_type": "code",
   "execution_count": 88,
   "metadata": {},
   "outputs": [],
   "source": [
    "# Make node lists with json type object\n",
    "nodes = []\n",
    "for _, row in people_df.iterrows():\n",
    "    nodes.append({'data': {'id': row['P_id'], 'label': f\"{row['First']} {row['Last']}\"},\n",
    "                  'position': {'x': row['xpos']*100, 'y': row['Generation']*100}  \n",
    "    })\n",
    "\n",
    "# Make edge lists with json type object\n",
    "edges = []\n",
    "# Create marriage edges and child edges\n",
    "for _, row in marriages_df.iterrows():\n",
    "    person_a_id = name_to_id[row['PersonA']]\n",
    "    person_b_id = name_to_id[row['PersonB']]\n",
    "\n",
    "    marriage_x = (people_df.loc[people_df['P_id'] == person_a_id, 'xpos'].values[0]*100 + \n",
    "                  people_df.loc[people_df['P_id'] == person_b_id, 'xpos'].values[0]*100) / 2\n",
    "\n",
    "    nodes.append({'data': {'id': row['M_id'],},\n",
    "                  'position': {'x': marriage_x, 'y': row['Generation']*100},\n",
    "                  'style': {'width': '10%', 'height': '10%'}  \n",
    "    })\n",
    "    \n",
    "    # Create edges for the marriage between PersonA and PersonB\n",
    "    edges.append({'data': {'source': person_a_id, 'target': row['M_id'], 'label': 'Marriage'},\n",
    "                  'style': {'line-color': 'blue'}\n",
    "    })\n",
    "    edges.append({'data': {'source': person_b_id, 'target': row['M_id'], 'label': 'Marriage'},\n",
    "                  'style': {'line-color': 'blue'}\n",
    "    })\n",
    "    \n",
    "    # Create child edges from the middle of the marriage line\n",
    "    # Average x position of the two parents to place the child edge\n",
    "    marriage_x = (people_df.loc[people_df['P_id'] == person_a_id, 'xpos'].values[0]*100 + \n",
    "                  people_df.loc[people_df['P_id'] == person_b_id, 'xpos'].values[0]*100) / 2\n",
    "    if type(row['Children']) != float:\n",
    "       \n",
    "        for child in row['Children'].split(\";\"):\n",
    "            child_name = child.strip()\n",
    "            child_id = name_to_id[child_name] if child_name in name_to_id else None\n",
    "            if child_id:\n",
    "                edges.append({\n",
    "                    'data': {'source': row['M_id'], 'target': child_id, 'label': 'Child'},\n",
    "                    'style': {'line-color': 'green'},\n",
    "                })\n"
   ]
  },
  {
   "cell_type": "code",
   "execution_count": 54,
   "metadata": {},
   "outputs": [],
   "source": []
  },
  {
   "cell_type": "code",
   "execution_count": 89,
   "metadata": {},
   "outputs": [
    {
     "data": {
      "text/html": [
       "\n",
       "        <iframe\n",
       "            width=\"100%\"\n",
       "            height=\"650\"\n",
       "            src=\"http://127.0.0.1:8050/\"\n",
       "            frameborder=\"0\"\n",
       "            allowfullscreen\n",
       "            \n",
       "        ></iframe>\n",
       "        "
      ],
      "text/plain": [
       "<IPython.lib.display.IFrame at 0x11c3bc1c0>"
      ]
     },
     "metadata": {},
     "output_type": "display_data"
    }
   ],
   "source": [
    "# Create Dash App\n",
    "app = dash.Dash(__name__)\n",
    "\n",
    "# Cytoscape layout options\n",
    "layout = {\n",
    "    'name': 'preset',  # Use preset positions\n",
    "    'animate': True\n",
    "}\n",
    "\n",
    "# Dash Cytoscape component\n",
    "app.layout = html.Div([\n",
    "    cyto.Cytoscape(\n",
    "        id='family-tree',\n",
    "        elements=nodes + edges,\n",
    "        layout=layout,\n",
    "        style={'width': '100%', 'height': '600px'}\n",
    "    )\n",
    "])\n",
    "\n",
    "# Run the app\n",
    "if __name__ == '__main__':\n",
    "    app.run(debug=True)"
   ]
  },
  {
   "cell_type": "code",
   "execution_count": null,
   "metadata": {},
   "outputs": [],
   "source": []
  }
 ],
 "metadata": {
  "kernelspec": {
   "display_name": "Python 3",
   "language": "python",
   "name": "python3"
  },
  "language_info": {
   "codemirror_mode": {
    "name": "ipython",
    "version": 3
   },
   "file_extension": ".py",
   "mimetype": "text/x-python",
   "name": "python",
   "nbconvert_exporter": "python",
   "pygments_lexer": "ipython3",
   "version": "3.10.8"
  }
 },
 "nbformat": 4,
 "nbformat_minor": 2
}
